{
 "cells": [
  {
   "cell_type": "code",
   "execution_count": 1,
   "metadata": {},
   "outputs": [
    {
     "name": "stdout",
     "output_type": "stream",
     "text": [
      "Intel MKL WARNING: Support of Intel(R) Streaming SIMD Extensions 4.2 (Intel(R) SSE4.2) enabled only processors has been deprecated. Intel oneAPI Math Kernel Library 2025.0 will require Intel(R) Advanced Vector Extensions (Intel(R) AVX) instructions.\n",
      "Intel MKL WARNING: Support of Intel(R) Streaming SIMD Extensions 4.2 (Intel(R) SSE4.2) enabled only processors has been deprecated. Intel oneAPI Math Kernel Library 2025.0 will require Intel(R) Advanced Vector Extensions (Intel(R) AVX) instructions.\n"
     ]
    },
    {
     "name": "stderr",
     "output_type": "stream",
     "text": [
      "<frozen importlib._bootstrap>:241: RuntimeWarning: scipy._lib.messagestream.MessageStream size changed, may indicate binary incompatibility. Expected 56 from C header, got 64 from PyObject\n"
     ]
    }
   ],
   "source": [
    "import pandas as pd\n",
    "import numpy as np\n",
    "from sklearn.model_selection import train_test_split"
   ]
  },
  {
   "attachments": {},
   "cell_type": "markdown",
   "metadata": {},
   "source": [
    "Começamos importando as bibliotecas e vendo como é formado nosso dataframe."
   ]
  },
  {
   "cell_type": "code",
   "execution_count": 2,
   "metadata": {},
   "outputs": [
    {
     "data": {
      "text/html": [
       "<div>\n",
       "<style scoped>\n",
       "    .dataframe tbody tr th:only-of-type {\n",
       "        vertical-align: middle;\n",
       "    }\n",
       "\n",
       "    .dataframe tbody tr th {\n",
       "        vertical-align: top;\n",
       "    }\n",
       "\n",
       "    .dataframe thead th {\n",
       "        text-align: right;\n",
       "    }\n",
       "</style>\n",
       "<table border=\"1\" class=\"dataframe\">\n",
       "  <thead>\n",
       "    <tr style=\"text-align: right;\">\n",
       "      <th></th>\n",
       "      <th>zn</th>\n",
       "      <th>indus</th>\n",
       "      <th>chas</th>\n",
       "      <th>nox</th>\n",
       "      <th>rm</th>\n",
       "      <th>age</th>\n",
       "      <th>dis</th>\n",
       "      <th>rad</th>\n",
       "      <th>tax</th>\n",
       "      <th>ptratio</th>\n",
       "      <th>b</th>\n",
       "      <th>lstat</th>\n",
       "      <th>medv</th>\n",
       "    </tr>\n",
       "    <tr>\n",
       "      <th>crim</th>\n",
       "      <th></th>\n",
       "      <th></th>\n",
       "      <th></th>\n",
       "      <th></th>\n",
       "      <th></th>\n",
       "      <th></th>\n",
       "      <th></th>\n",
       "      <th></th>\n",
       "      <th></th>\n",
       "      <th></th>\n",
       "      <th></th>\n",
       "      <th></th>\n",
       "      <th></th>\n",
       "    </tr>\n",
       "  </thead>\n",
       "  <tbody>\n",
       "    <tr>\n",
       "      <th>0.00632</th>\n",
       "      <td>18.0</td>\n",
       "      <td>2.31</td>\n",
       "      <td>0</td>\n",
       "      <td>0.538</td>\n",
       "      <td>6.575</td>\n",
       "      <td>65.2</td>\n",
       "      <td>4.0900</td>\n",
       "      <td>1</td>\n",
       "      <td>296</td>\n",
       "      <td>15.3</td>\n",
       "      <td>396.90</td>\n",
       "      <td>4.98</td>\n",
       "      <td>24.0</td>\n",
       "    </tr>\n",
       "    <tr>\n",
       "      <th>0.02731</th>\n",
       "      <td>0.0</td>\n",
       "      <td>7.07</td>\n",
       "      <td>0</td>\n",
       "      <td>0.469</td>\n",
       "      <td>6.421</td>\n",
       "      <td>78.9</td>\n",
       "      <td>4.9671</td>\n",
       "      <td>2</td>\n",
       "      <td>242</td>\n",
       "      <td>17.8</td>\n",
       "      <td>396.90</td>\n",
       "      <td>9.14</td>\n",
       "      <td>21.6</td>\n",
       "    </tr>\n",
       "    <tr>\n",
       "      <th>0.02729</th>\n",
       "      <td>0.0</td>\n",
       "      <td>7.07</td>\n",
       "      <td>0</td>\n",
       "      <td>0.469</td>\n",
       "      <td>7.185</td>\n",
       "      <td>61.1</td>\n",
       "      <td>4.9671</td>\n",
       "      <td>2</td>\n",
       "      <td>242</td>\n",
       "      <td>17.8</td>\n",
       "      <td>392.83</td>\n",
       "      <td>4.03</td>\n",
       "      <td>34.7</td>\n",
       "    </tr>\n",
       "    <tr>\n",
       "      <th>0.03237</th>\n",
       "      <td>0.0</td>\n",
       "      <td>2.18</td>\n",
       "      <td>0</td>\n",
       "      <td>0.458</td>\n",
       "      <td>6.998</td>\n",
       "      <td>45.8</td>\n",
       "      <td>6.0622</td>\n",
       "      <td>3</td>\n",
       "      <td>222</td>\n",
       "      <td>18.7</td>\n",
       "      <td>394.63</td>\n",
       "      <td>2.94</td>\n",
       "      <td>33.4</td>\n",
       "    </tr>\n",
       "    <tr>\n",
       "      <th>0.06905</th>\n",
       "      <td>0.0</td>\n",
       "      <td>2.18</td>\n",
       "      <td>0</td>\n",
       "      <td>0.458</td>\n",
       "      <td>7.147</td>\n",
       "      <td>54.2</td>\n",
       "      <td>6.0622</td>\n",
       "      <td>3</td>\n",
       "      <td>222</td>\n",
       "      <td>18.7</td>\n",
       "      <td>396.90</td>\n",
       "      <td>5.33</td>\n",
       "      <td>36.2</td>\n",
       "    </tr>\n",
       "  </tbody>\n",
       "</table>\n",
       "</div>"
      ],
      "text/plain": [
       "           zn  indus  chas    nox     rm   age     dis  rad  tax  ptratio  \\\n",
       "crim                                                                        \n",
       "0.00632  18.0   2.31     0  0.538  6.575  65.2  4.0900    1  296     15.3   \n",
       "0.02731   0.0   7.07     0  0.469  6.421  78.9  4.9671    2  242     17.8   \n",
       "0.02729   0.0   7.07     0  0.469  7.185  61.1  4.9671    2  242     17.8   \n",
       "0.03237   0.0   2.18     0  0.458  6.998  45.8  6.0622    3  222     18.7   \n",
       "0.06905   0.0   2.18     0  0.458  7.147  54.2  6.0622    3  222     18.7   \n",
       "\n",
       "              b  lstat  medv  \n",
       "crim                          \n",
       "0.00632  396.90   4.98  24.0  \n",
       "0.02731  396.90   9.14  21.6  \n",
       "0.02729  392.83   4.03  34.7  \n",
       "0.03237  394.63   2.94  33.4  \n",
       "0.06905  396.90   5.33  36.2  "
      ]
     },
     "execution_count": 2,
     "metadata": {},
     "output_type": "execute_result"
    }
   ],
   "source": [
    "df_boston = pd.read_csv('BostonHousing.csv', index_col=0)\n",
    "df_boston.head()"
   ]
  },
  {
   "attachments": {},
   "cell_type": "markdown",
   "metadata": {},
   "source": [
    "Aqui nós dividimos nosso dataframe em um subconjunto que 30% será teste e 70% treinamento."
   ]
  },
  {
   "cell_type": "code",
   "execution_count": 3,
   "metadata": {},
   "outputs": [],
   "source": [
    "# gerando subconjuntos de dados de treinamento e teste com 70% dos dados para treinamento e 30% para teste\n",
    "X_train, X_test, y_train, y_test = train_test_split(df_boston.drop('medv', axis=1), df_boston['medv'], test_size=0.3, random_state=42)"
   ]
  },
  {
   "attachments": {},
   "cell_type": "markdown",
   "metadata": {},
   "source": [
    "Algoritmo que busca o atributo com maior correlação ao target de um dataframe."
   ]
  },
  {
   "cell_type": "code",
   "execution_count": 4,
   "metadata": {},
   "outputs": [],
   "source": [
    "# A função recebe o dataframe e o atributo alvo como parâmetro e retorna o atributo com maior correlação.\n",
    "# A função faz uma matriz de correlação usando método de pearson, faz o valor absoluto e depois disso ordena os valores\n",
    "# Depois de ordenado, o segundo valor dessa lista ( porque o primeiro é 1 sempre)  vai ser o atributo com maior correlação.\n",
    "\n",
    "def get_maior_corr(df, target):\n",
    "    return df.corr(method='pearson')[target].abs().sort_values(ascending=False).index[1]"
   ]
  },
  {
   "cell_type": "code",
   "execution_count": 5,
   "metadata": {},
   "outputs": [
    {
     "name": "stdout",
     "output_type": "stream",
     "text": [
      "A coluna com a maior correlação é: lstat\n"
     ]
    }
   ],
   "source": [
    "maior_corr_col = get_maior_corr(df_boston, 'medv')\n",
    "print(\"A coluna com a maior correlação é:\", maior_corr_col)"
   ]
  },
  {
   "attachments": {},
   "cell_type": "markdown",
   "metadata": {},
   "source": [
    "Cálculo das métricas ensinadas nos slides"
   ]
  },
  {
   "cell_type": "code",
   "execution_count": 6,
   "metadata": {},
   "outputs": [],
   "source": [
    "def RSS( y_real, y_pred ):\n",
    "    return np.sum( ( y_real - y_pred ) ** 2 )\n",
    "\n",
    "def RSE( y_real, y_pred ):\n",
    "    n = len( y_real )\n",
    "    return np.sqrt( RSS( y_real, y_pred ) / ( n - 2 ) )\n",
    "\n",
    "def SE_Theta0( X_real, y_real, y_pred ):\n",
    "    n = len( y_real )\n",
    "    x_mean = np.mean( X_real )\n",
    "    return RSE( y_real, y_pred ) * np.sqrt( 1 / n + x_mean ** 2 / np.sum( ( X_real - x_mean ) ** 2 ) )\n",
    "\n",
    "def SE_Theta1( X_real, y_real, y_pred ):\n",
    "    n = len( y_real )\n",
    "    x_mean = np.mean( X_real )\n",
    "    return RSE( y_real, y_pred ) / np.sqrt( np.sum( ( X_real - x_mean ) ** 2 ) )\n",
    "\n",
    "# importando o modelo de regressão linear\n",
    "from sklearn import linear_model\n",
    "\n",
    "def calculate_metrics( X_train, X_test, y_train, y_test ):\n",
    "\n",
    "    reg = linear_model.LinearRegression()\n",
    "    reg.fit( X_train, y_train )\n",
    "\n",
    "    y_pred = reg.predict( X_test )\n",
    "    N = len( X_train )\n",
    "\n",
    "    coeficiente = reg.coef_[0][0]\n",
    "    intercept = reg.intercept_[0]\n",
    "    equation = f\"y = {coeficiente:.5f}*X + {intercept:.5f}\"\n",
    "    rss = RSS( y_test, y_pred )\n",
    "    rse = RSE( y_test, y_pred )\n",
    "    se_theta0 = SE_Theta0( X_test, y_test, y_pred )\n",
    "    se_theta1 = SE_Theta1( X_test, y_test, y_pred )\n",
    "    r_squared = reg.score( X_test, y_test )\n",
    "\n",
    "    return {\n",
    "        'Coeficiente': coeficiente,\n",
    "        'Intercept': intercept,\n",
    "        'Equação': equation,\n",
    "        'RSS': rss,\n",
    "        'RSE': rse,\n",
    "        'SE_Theta0': se_theta0,\n",
    "        'SE_Theta1': se_theta1,\n",
    "        'R-squared': r_squared\n",
    "    }\n"
   ]
  },
  {
   "attachments": {},
   "cell_type": "markdown",
   "metadata": {},
   "source": [
    "Escolhemos apenas o atributo com maior correlação e o target, para fazermos uma regressão linear mais otimizada."
   ]
  },
  {
   "cell_type": "code",
   "execution_count": 7,
   "metadata": {},
   "outputs": [],
   "source": [
    "# Regressão de BostonHousing\n",
    "data_1 = df_boston.values\n",
    "\n",
    "X, y = data_1[:, -2].reshape( ( -1, 1 ) ), data_1[:, -1].reshape( ( -1, 1 ) )\n"
   ]
  },
  {
   "attachments": {},
   "cell_type": "markdown",
   "metadata": {},
   "source": [
    "Faz 30 amostras de regressão linear para analisarmos os resultados de forma ampla."
   ]
  },
  {
   "cell_type": "code",
   "execution_count": 8,
   "metadata": {},
   "outputs": [
    {
     "data": {
      "text/html": [
       "<div>\n",
       "<style scoped>\n",
       "    .dataframe tbody tr th:only-of-type {\n",
       "        vertical-align: middle;\n",
       "    }\n",
       "\n",
       "    .dataframe tbody tr th {\n",
       "        vertical-align: top;\n",
       "    }\n",
       "\n",
       "    .dataframe thead th {\n",
       "        text-align: right;\n",
       "    }\n",
       "</style>\n",
       "<table border=\"1\" class=\"dataframe\">\n",
       "  <thead>\n",
       "    <tr style=\"text-align: right;\">\n",
       "      <th></th>\n",
       "      <th>Coeficiente</th>\n",
       "      <th>Intercept</th>\n",
       "      <th>Equação</th>\n",
       "      <th>RSS</th>\n",
       "      <th>RSE</th>\n",
       "      <th>SE_Theta0</th>\n",
       "      <th>SE_Theta1</th>\n",
       "      <th>R-squared</th>\n",
       "    </tr>\n",
       "  </thead>\n",
       "  <tbody>\n",
       "    <tr>\n",
       "      <th>0</th>\n",
       "      <td>-0.929384</td>\n",
       "      <td>34.258787</td>\n",
       "      <td>y = -0.92938*X + 34.25879</td>\n",
       "      <td>6700.100989</td>\n",
       "      <td>6.683363</td>\n",
       "      <td>1.079096</td>\n",
       "      <td>0.071328</td>\n",
       "      <td>0.561634</td>\n",
       "    </tr>\n",
       "    <tr>\n",
       "      <th>1</th>\n",
       "      <td>-0.964184</td>\n",
       "      <td>34.727163</td>\n",
       "      <td>y = -0.96418*X + 34.72716</td>\n",
       "      <td>5537.504036</td>\n",
       "      <td>6.075911</td>\n",
       "      <td>0.984090</td>\n",
       "      <td>0.067202</td>\n",
       "      <td>0.554685</td>\n",
       "    </tr>\n",
       "    <tr>\n",
       "      <th>2</th>\n",
       "      <td>-0.957946</td>\n",
       "      <td>34.679537</td>\n",
       "      <td>y = -0.95795*X + 34.67954</td>\n",
       "      <td>5663.628008</td>\n",
       "      <td>6.144715</td>\n",
       "      <td>1.012072</td>\n",
       "      <td>0.070812</td>\n",
       "      <td>0.535317</td>\n",
       "    </tr>\n",
       "    <tr>\n",
       "      <th>3</th>\n",
       "      <td>-0.924650</td>\n",
       "      <td>33.905608</td>\n",
       "      <td>y = -0.92465*X + 33.90561</td>\n",
       "      <td>6808.187016</td>\n",
       "      <td>6.737055</td>\n",
       "      <td>1.141332</td>\n",
       "      <td>0.080216</td>\n",
       "      <td>0.507340</td>\n",
       "    </tr>\n",
       "    <tr>\n",
       "      <th>4</th>\n",
       "      <td>-0.878649</td>\n",
       "      <td>33.558454</td>\n",
       "      <td>y = -0.87865*X + 33.55845</td>\n",
       "      <td>6649.366975</td>\n",
       "      <td>6.658011</td>\n",
       "      <td>1.098326</td>\n",
       "      <td>0.075795</td>\n",
       "      <td>0.579704</td>\n",
       "    </tr>\n",
       "  </tbody>\n",
       "</table>\n",
       "</div>"
      ],
      "text/plain": [
       "   Coeficiente  Intercept                    Equação          RSS       RSE  \\\n",
       "0    -0.929384  34.258787  y = -0.92938*X + 34.25879  6700.100989  6.683363   \n",
       "1    -0.964184  34.727163  y = -0.96418*X + 34.72716  5537.504036  6.075911   \n",
       "2    -0.957946  34.679537  y = -0.95795*X + 34.67954  5663.628008  6.144715   \n",
       "3    -0.924650  33.905608  y = -0.92465*X + 33.90561  6808.187016  6.737055   \n",
       "4    -0.878649  33.558454  y = -0.87865*X + 33.55845  6649.366975  6.658011   \n",
       "\n",
       "   SE_Theta0  SE_Theta1  R-squared  \n",
       "0   1.079096   0.071328   0.561634  \n",
       "1   0.984090   0.067202   0.554685  \n",
       "2   1.012072   0.070812   0.535317  \n",
       "3   1.141332   0.080216   0.507340  \n",
       "4   1.098326   0.075795   0.579704  "
      ]
     },
     "execution_count": 8,
     "metadata": {},
     "output_type": "execute_result"
    }
   ],
   "source": [
    "new_df_1 = pd.DataFrame( columns=['Coeficiente', 'Intercept', 'Equação', 'RSS', 'RSE', 'SE_Theta0', 'SE_Theta1', 'R-squared'] )\n",
    "\n",
    "for i in range( 30 ):\n",
    "    X_train, X_test, y_train, y_test = train_test_split( X, y, test_size=0.3 )\n",
    "\n",
    "    metrics = calculate_metrics( X_train, X_test, y_train, y_test)\n",
    "    new_df_1 = pd.concat( [new_df_1, pd.DataFrame( metrics, index=[0] )], ignore_index=True )\n",
    "\n",
    "new_df_1.to_csv( 'regressões_Boston_advertising.csv', index=False )\n",
    "new_df_1.head()"
   ]
  },
  {
   "attachments": {},
   "cell_type": "markdown",
   "metadata": {},
   "source": [
    "Plota nossos resultados"
   ]
  },
  {
   "cell_type": "code",
   "execution_count": 9,
   "metadata": {},
   "outputs": [],
   "source": [
    "import matplotlib.pyplot as plt\n",
    "\n",
    "def plot_linear_regression(df, new_df, x_column, y_column):\n",
    "    a0 = new_df['Intercept'].mean()\n",
    "    a1 = new_df['Coeficiente'].mean()\n",
    "\n",
    "    x = np.linspace(df[x_column].min(), df[x_column].max())\n",
    "    y = a1 * x + a0\n",
    "\n",
    "    plt.figure(figsize=(10, 5))\n",
    "    plt.plot(x, y, color='blue', label='Regressão')\n",
    "    plt.scatter(df[x_column], df[y_column], color='red', marker='o', label='Dados')\n",
    "    plt.xlabel(x_column)\n",
    "    plt.ylabel(y_column)\n",
    "    plt.title('Regressão Linear')\n",
    "    plt.legend(loc='upper center')\n",
    "    plt.grid(True)\n",
    "    plt.show()"
   ]
  },
  {
   "cell_type": "code",
   "execution_count": 10,
   "metadata": {},
   "outputs": [
    {
     "data": {
      "image/png": "[encoded data removed]",
      "text/plain": [
       "<Figure size 1000x500 with 1 Axes>"
      ]
     },
     "metadata": {},
     "output_type": "display_data"
    }
   ],
   "source": [
    "# Gráfico da Regressão Linear de BostonHousing\n",
    "plot_linear_regression(df_boston, new_df_1, 'lstat', 'medv')"
   ]
  },
  {
   "attachments": {},
   "cell_type": "markdown",
   "metadata": {},
   "source": [
    "Repete o mesmo método para o outro dataset"
   ]
  },
  {
   "cell_type": "code",
   "execution_count": 11,
   "metadata": {},
   "outputs": [
    {
     "data": {
      "text/html": [
       "<div>\n",
       "<style scoped>\n",
       "    .dataframe tbody tr th:only-of-type {\n",
       "        vertical-align: middle;\n",
       "    }\n",
       "\n",
       "    .dataframe tbody tr th {\n",
       "        vertical-align: top;\n",
       "    }\n",
       "\n",
       "    .dataframe thead th {\n",
       "        text-align: right;\n",
       "    }\n",
       "</style>\n",
       "<table border=\"1\" class=\"dataframe\">\n",
       "  <thead>\n",
       "    <tr style=\"text-align: right;\">\n",
       "      <th></th>\n",
       "      <th>radio</th>\n",
       "      <th>newspaper</th>\n",
       "      <th>sales</th>\n",
       "    </tr>\n",
       "    <tr>\n",
       "      <th>TV</th>\n",
       "      <th></th>\n",
       "      <th></th>\n",
       "      <th></th>\n",
       "    </tr>\n",
       "  </thead>\n",
       "  <tbody>\n",
       "    <tr>\n",
       "      <th>230.1</th>\n",
       "      <td>37.8</td>\n",
       "      <td>69.2</td>\n",
       "      <td>22.1</td>\n",
       "    </tr>\n",
       "    <tr>\n",
       "      <th>44.5</th>\n",
       "      <td>39.3</td>\n",
       "      <td>45.1</td>\n",
       "      <td>10.4</td>\n",
       "    </tr>\n",
       "    <tr>\n",
       "      <th>17.2</th>\n",
       "      <td>45.9</td>\n",
       "      <td>69.3</td>\n",
       "      <td>9.3</td>\n",
       "    </tr>\n",
       "    <tr>\n",
       "      <th>151.5</th>\n",
       "      <td>41.3</td>\n",
       "      <td>58.5</td>\n",
       "      <td>18.5</td>\n",
       "    </tr>\n",
       "    <tr>\n",
       "      <th>180.8</th>\n",
       "      <td>10.8</td>\n",
       "      <td>58.4</td>\n",
       "      <td>12.9</td>\n",
       "    </tr>\n",
       "  </tbody>\n",
       "</table>\n",
       "</div>"
      ],
      "text/plain": [
       "       radio  newspaper  sales\n",
       "TV                            \n",
       "230.1   37.8       69.2   22.1\n",
       "44.5    39.3       45.1   10.4\n",
       "17.2    45.9       69.3    9.3\n",
       "151.5   41.3       58.5   18.5\n",
       "180.8   10.8       58.4   12.9"
      ]
     },
     "execution_count": 11,
     "metadata": {},
     "output_type": "execute_result"
    }
   ],
   "source": [
    "df_advertising = pd.read_csv('Advertising.csv', index_col=0)\n",
    "\n",
    "df_advertising.head()"
   ]
  },
  {
   "cell_type": "code",
   "execution_count": 12,
   "metadata": {},
   "outputs": [
    {
     "data": {
      "image/png": "[encoded data removed]",
      "text/plain": [
       "<Figure size 1000x500 with 1 Axes>"
      ]
     },
     "metadata": {},
     "output_type": "display_data"
    }
   ],
   "source": [
    "data_2 = df_advertising.values\n",
    "\n",
    "# o atributo com maior correlacao a sales é TV, então:\n",
    "X, y = data_2[:, 0].reshape( ( -1, 1 ) ), data_2[:, -1].reshape( ( -1, 1 ) )\n",
    "\n",
    "new_df_2 = pd.DataFrame( columns=['Coeficiente', 'Intercept', 'Equação', 'RSS', 'RSE', 'SE_Theta0', 'SE_Theta1', 'R-squared'] )\n",
    "\n",
    "for i in range( 30 ):\n",
    "    X_train, X_test, y_train, y_test = train_test_split( X, y, test_size=0.3 )\n",
    "\n",
    "    metrics = calculate_metrics( X_train, X_test, y_train, y_test)\n",
    "    new_df_2 = pd.concat( [new_df_2, pd.DataFrame(metrics, index=[0] )], ignore_index=True )\n",
    "\n",
    "new_df_2.to_csv( 'regressões_advertising.csv', index=False )\n",
    "new_df_2.head()\n",
    "\n",
    "# Gráfico da Regressão Linear de Advertising\n",
    "plot_linear_regression(df_advertising, new_df_2, 'radio', 'sales')"
   ]
  }
 ],
 "metadata": {
  "kernelspec": {
   "display_name": "Python 3",
   "language": "python",
   "name": "python3"
  },
  "language_info": {
   "codemirror_mode": {
    "name": "ipython",
    "version": 3
   },
   "file_extension": ".py",
   "mimetype": "text/x-python",
   "name": "python",
   "nbconvert_exporter": "python",
   "pygments_lexer": "ipython3",
   "version": "3.10.11"
  },
  "orig_nbformat": 4
 },
 "nbformat": 4,
 "nbformat_minor": 2
}
